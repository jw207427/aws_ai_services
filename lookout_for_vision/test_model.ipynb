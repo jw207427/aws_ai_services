{
 "cells": [
  {
   "cell_type": "markdown",
   "metadata": {},
   "source": [
    "### start the model"
   ]
  },
  {
   "cell_type": "code",
   "execution_count": 13,
   "metadata": {},
   "outputs": [
    {
     "name": "stdout",
     "output_type": "stream",
     "text": [
      "Starting model version 1 for project cast-demo-comprehensive\n",
      "An error occurred (ConflictException) when calling the StartModel operation: Model 1 in project cast-demo-comprehensive is busy.\n",
      "Done...\n"
     ]
    }
   ],
   "source": [
    "#Copyright 2020 Amazon.com, Inc. or its affiliates. All Rights Reserved.\n",
    "import boto3\n",
    "\n",
    "project_name='cast-demo-comprehensive'\n",
    "model_version='1'\n",
    "min_inference_units=1 \n",
    "\n",
    "client=boto3.client('lookoutvision')\n",
    "\n",
    "try:\n",
    "    # Start the model\n",
    "    print('Starting model version ' + model_version  + ' for project ' + project_name )\n",
    "    response=client.start_model(ProjectName=project_name,\n",
    "        ModelVersion=model_version,\n",
    "        MinInferenceUnits=min_inference_units)\n",
    "    print('Status: ' + response['Status'])\n",
    "\n",
    "\n",
    "except Exception as e:\n",
    "    print(e)\n",
    "\n",
    "print('Done...')"
   ]
  },
  {
   "cell_type": "markdown",
   "metadata": {},
   "source": [
    "### get status of the model"
   ]
  },
  {
   "cell_type": "code",
   "execution_count": 20,
   "metadata": {},
   "outputs": [
    {
     "name": "stdout",
     "output_type": "stream",
     "text": [
      "Status: TRAINED\n"
     ]
    }
   ],
   "source": [
    "response = client.describe_model(ProjectName=project_name,\n",
    "ModelVersion=model_version)\n",
    "\n",
    "print('Status: ' + response['ModelDescription']['Status'])"
   ]
  },
  {
   "cell_type": "markdown",
   "metadata": {},
   "source": [
    "### send in a image"
   ]
  },
  {
   "cell_type": "code",
   "execution_count": 18,
   "metadata": {},
   "outputs": [
    {
     "name": "stdout",
     "output_type": "stream",
     "text": [
      "Anomalous?: True\n",
      "Confidence: 0.9998528957366943\n"
     ]
    }
   ],
   "source": [
    "photo = 'cast_def_0_40.jpeg'\n",
    "with open(photo, 'rb') as image:\n",
    "    response = client.detect_anomalies(ProjectName=project_name, \n",
    "    ContentType='image/jpeg',\n",
    "    Body=image.read(),\n",
    "    ModelVersion=model_version)\n",
    "print ('Anomalous?: ' + str(response['DetectAnomalyResult']['IsAnomalous']))\n",
    "print ('Confidence: ' + str(response['DetectAnomalyResult']['Confidence']))"
   ]
  },
  {
   "cell_type": "markdown",
   "metadata": {},
   "source": [
    "### stop model"
   ]
  },
  {
   "cell_type": "code",
   "execution_count": 19,
   "metadata": {},
   "outputs": [
    {
     "name": "stdout",
     "output_type": "stream",
     "text": [
      "Stopping model version 1 for project cast-demo-comprehensive\n",
      "Status: STOPPING_HOSTING\n",
      "Done...\n"
     ]
    }
   ],
   "source": [
    "try:\n",
    "    # Stop the model\n",
    "    print('Stopping model version ' + model_version  + ' for project ' + project_name )\n",
    "    response=client.stop_model(ProjectName=project_name,\n",
    "        ModelVersion='1')\n",
    "    print('Status: ' + response['Status'])\n",
    "\n",
    "\n",
    "except Exception as e:\n",
    "    print(e)\n",
    "\n",
    "print('Done...')"
   ]
  },
  {
   "cell_type": "code",
   "execution_count": null,
   "metadata": {},
   "outputs": [],
   "source": []
  }
 ],
 "metadata": {
  "kernelspec": {
   "display_name": "Python 3",
   "language": "python",
   "name": "python3"
  },
  "language_info": {
   "codemirror_mode": {
    "name": "ipython",
    "version": 3
   },
   "file_extension": ".py",
   "mimetype": "text/x-python",
   "name": "python",
   "nbconvert_exporter": "python",
   "pygments_lexer": "ipython3",
   "version": "3.8.3"
  }
 },
 "nbformat": 4,
 "nbformat_minor": 4
}
